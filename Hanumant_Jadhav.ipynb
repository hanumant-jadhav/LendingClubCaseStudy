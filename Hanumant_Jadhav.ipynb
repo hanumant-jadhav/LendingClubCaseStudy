{
 "cells": [
  {
   "cell_type": "markdown",
   "id": "3fd88a0e",
   "metadata": {},
   "source": [
    "<h2 style = \"color : Purple\">Import the required libraries for Exploratory Data Analysis</h2>"
   ]
  },
  {
   "cell_type": "code",
   "execution_count": 6,
   "id": "175356e6",
   "metadata": {},
   "outputs": [],
   "source": [
    "import pandas as pd\n",
    "import numpy as np\n",
    "import matplotlib.pyplot as plt\n",
    "import seaborn as sns\n",
    "import warnings\n",
    "warnings.filterwarnings('ignore')"
   ]
  },
  {
   "cell_type": "markdown",
   "id": "23e4c2dc",
   "metadata": {},
   "source": [
    "<h2 style = \"color : Purple\">Load the data into the data frame</h2>"
   ]
  },
  {
   "cell_type": "code",
   "execution_count": 7,
   "id": "2611908d",
   "metadata": {},
   "outputs": [],
   "source": [
    "loan_df = pd.read_csv('loan.csv', low_memory=False)"
   ]
  },
  {
   "cell_type": "markdown",
   "id": "1a8687b7",
   "metadata": {},
   "source": [
    "<h2 style = \"color : Purple\">Display the top 5 rows from dataset to find any exra rows like Header row</h2>"
   ]
  },
  {
   "cell_type": "code",
   "execution_count": 8,
   "id": "20f69ef9",
   "metadata": {},
   "outputs": [
    {
     "data": {
      "text/html": [
       "<div>\n",
       "<style scoped>\n",
       "    .dataframe tbody tr th:only-of-type {\n",
       "        vertical-align: middle;\n",
       "    }\n",
       "\n",
       "    .dataframe tbody tr th {\n",
       "        vertical-align: top;\n",
       "    }\n",
       "\n",
       "    .dataframe thead th {\n",
       "        text-align: right;\n",
       "    }\n",
       "</style>\n",
       "<table border=\"1\" class=\"dataframe\">\n",
       "  <thead>\n",
       "    <tr style=\"text-align: right;\">\n",
       "      <th></th>\n",
       "      <th>id</th>\n",
       "      <th>member_id</th>\n",
       "      <th>loan_amnt</th>\n",
       "      <th>funded_amnt</th>\n",
       "      <th>funded_amnt_inv</th>\n",
       "      <th>term</th>\n",
       "      <th>int_rate</th>\n",
       "      <th>installment</th>\n",
       "      <th>grade</th>\n",
       "      <th>sub_grade</th>\n",
       "      <th>...</th>\n",
       "      <th>num_tl_90g_dpd_24m</th>\n",
       "      <th>num_tl_op_past_12m</th>\n",
       "      <th>pct_tl_nvr_dlq</th>\n",
       "      <th>percent_bc_gt_75</th>\n",
       "      <th>pub_rec_bankruptcies</th>\n",
       "      <th>tax_liens</th>\n",
       "      <th>tot_hi_cred_lim</th>\n",
       "      <th>total_bal_ex_mort</th>\n",
       "      <th>total_bc_limit</th>\n",
       "      <th>total_il_high_credit_limit</th>\n",
       "    </tr>\n",
       "  </thead>\n",
       "  <tbody>\n",
       "    <tr>\n",
       "      <th>0</th>\n",
       "      <td>1077501</td>\n",
       "      <td>1296599</td>\n",
       "      <td>5000</td>\n",
       "      <td>5000</td>\n",
       "      <td>4975.0</td>\n",
       "      <td>36 months</td>\n",
       "      <td>10.65%</td>\n",
       "      <td>162.87</td>\n",
       "      <td>B</td>\n",
       "      <td>B2</td>\n",
       "      <td>...</td>\n",
       "      <td>NaN</td>\n",
       "      <td>NaN</td>\n",
       "      <td>NaN</td>\n",
       "      <td>NaN</td>\n",
       "      <td>0.0</td>\n",
       "      <td>0.0</td>\n",
       "      <td>NaN</td>\n",
       "      <td>NaN</td>\n",
       "      <td>NaN</td>\n",
       "      <td>NaN</td>\n",
       "    </tr>\n",
       "    <tr>\n",
       "      <th>1</th>\n",
       "      <td>1077430</td>\n",
       "      <td>1314167</td>\n",
       "      <td>2500</td>\n",
       "      <td>2500</td>\n",
       "      <td>2500.0</td>\n",
       "      <td>60 months</td>\n",
       "      <td>15.27%</td>\n",
       "      <td>59.83</td>\n",
       "      <td>C</td>\n",
       "      <td>C4</td>\n",
       "      <td>...</td>\n",
       "      <td>NaN</td>\n",
       "      <td>NaN</td>\n",
       "      <td>NaN</td>\n",
       "      <td>NaN</td>\n",
       "      <td>0.0</td>\n",
       "      <td>0.0</td>\n",
       "      <td>NaN</td>\n",
       "      <td>NaN</td>\n",
       "      <td>NaN</td>\n",
       "      <td>NaN</td>\n",
       "    </tr>\n",
       "    <tr>\n",
       "      <th>2</th>\n",
       "      <td>1077175</td>\n",
       "      <td>1313524</td>\n",
       "      <td>2400</td>\n",
       "      <td>2400</td>\n",
       "      <td>2400.0</td>\n",
       "      <td>36 months</td>\n",
       "      <td>15.96%</td>\n",
       "      <td>84.33</td>\n",
       "      <td>C</td>\n",
       "      <td>C5</td>\n",
       "      <td>...</td>\n",
       "      <td>NaN</td>\n",
       "      <td>NaN</td>\n",
       "      <td>NaN</td>\n",
       "      <td>NaN</td>\n",
       "      <td>0.0</td>\n",
       "      <td>0.0</td>\n",
       "      <td>NaN</td>\n",
       "      <td>NaN</td>\n",
       "      <td>NaN</td>\n",
       "      <td>NaN</td>\n",
       "    </tr>\n",
       "    <tr>\n",
       "      <th>3</th>\n",
       "      <td>1076863</td>\n",
       "      <td>1277178</td>\n",
       "      <td>10000</td>\n",
       "      <td>10000</td>\n",
       "      <td>10000.0</td>\n",
       "      <td>36 months</td>\n",
       "      <td>13.49%</td>\n",
       "      <td>339.31</td>\n",
       "      <td>C</td>\n",
       "      <td>C1</td>\n",
       "      <td>...</td>\n",
       "      <td>NaN</td>\n",
       "      <td>NaN</td>\n",
       "      <td>NaN</td>\n",
       "      <td>NaN</td>\n",
       "      <td>0.0</td>\n",
       "      <td>0.0</td>\n",
       "      <td>NaN</td>\n",
       "      <td>NaN</td>\n",
       "      <td>NaN</td>\n",
       "      <td>NaN</td>\n",
       "    </tr>\n",
       "    <tr>\n",
       "      <th>4</th>\n",
       "      <td>1075358</td>\n",
       "      <td>1311748</td>\n",
       "      <td>3000</td>\n",
       "      <td>3000</td>\n",
       "      <td>3000.0</td>\n",
       "      <td>60 months</td>\n",
       "      <td>12.69%</td>\n",
       "      <td>67.79</td>\n",
       "      <td>B</td>\n",
       "      <td>B5</td>\n",
       "      <td>...</td>\n",
       "      <td>NaN</td>\n",
       "      <td>NaN</td>\n",
       "      <td>NaN</td>\n",
       "      <td>NaN</td>\n",
       "      <td>0.0</td>\n",
       "      <td>0.0</td>\n",
       "      <td>NaN</td>\n",
       "      <td>NaN</td>\n",
       "      <td>NaN</td>\n",
       "      <td>NaN</td>\n",
       "    </tr>\n",
       "  </tbody>\n",
       "</table>\n",
       "<p>5 rows × 111 columns</p>\n",
       "</div>"
      ],
      "text/plain": [
       "        id  member_id  loan_amnt  funded_amnt  funded_amnt_inv        term  \\\n",
       "0  1077501    1296599       5000         5000           4975.0   36 months   \n",
       "1  1077430    1314167       2500         2500           2500.0   60 months   \n",
       "2  1077175    1313524       2400         2400           2400.0   36 months   \n",
       "3  1076863    1277178      10000        10000          10000.0   36 months   \n",
       "4  1075358    1311748       3000         3000           3000.0   60 months   \n",
       "\n",
       "  int_rate  installment grade sub_grade  ... num_tl_90g_dpd_24m  \\\n",
       "0   10.65%       162.87     B        B2  ...                NaN   \n",
       "1   15.27%        59.83     C        C4  ...                NaN   \n",
       "2   15.96%        84.33     C        C5  ...                NaN   \n",
       "3   13.49%       339.31     C        C1  ...                NaN   \n",
       "4   12.69%        67.79     B        B5  ...                NaN   \n",
       "\n",
       "  num_tl_op_past_12m pct_tl_nvr_dlq  percent_bc_gt_75 pub_rec_bankruptcies  \\\n",
       "0                NaN            NaN               NaN                  0.0   \n",
       "1                NaN            NaN               NaN                  0.0   \n",
       "2                NaN            NaN               NaN                  0.0   \n",
       "3                NaN            NaN               NaN                  0.0   \n",
       "4                NaN            NaN               NaN                  0.0   \n",
       "\n",
       "  tax_liens tot_hi_cred_lim total_bal_ex_mort total_bc_limit  \\\n",
       "0       0.0             NaN               NaN            NaN   \n",
       "1       0.0             NaN               NaN            NaN   \n",
       "2       0.0             NaN               NaN            NaN   \n",
       "3       0.0             NaN               NaN            NaN   \n",
       "4       0.0             NaN               NaN            NaN   \n",
       "\n",
       "  total_il_high_credit_limit  \n",
       "0                        NaN  \n",
       "1                        NaN  \n",
       "2                        NaN  \n",
       "3                        NaN  \n",
       "4                        NaN  \n",
       "\n",
       "[5 rows x 111 columns]"
      ]
     },
     "execution_count": 8,
     "metadata": {},
     "output_type": "execute_result"
    }
   ],
   "source": [
    "loan_df.head(5)"
   ]
  },
  {
   "cell_type": "markdown",
   "id": "4a1425af",
   "metadata": {},
   "source": [
    "<h2 style = \"color : Purple\">Delete unnecessary columns as we are not able to see complete dataset</h2>"
   ]
  },
  {
   "cell_type": "markdown",
   "id": "c38c88f7",
   "metadata": {},
   "source": [
    "<h2 style = \"color : Purple\">Check the shape of complete dataset</h2>"
   ]
  },
  {
   "cell_type": "code",
   "execution_count": 9,
   "id": "fa9f6cb1",
   "metadata": {},
   "outputs": [
    {
     "data": {
      "text/plain": [
       "(39717, 111)"
      ]
     },
     "execution_count": 9,
     "metadata": {},
     "output_type": "execute_result"
    }
   ],
   "source": [
    "loan_df.shape"
   ]
  },
  {
   "cell_type": "markdown",
   "id": "95120a18",
   "metadata": {},
   "source": [
    "<h2 style = \"color : Purple\">Check whether any columns values are missing in dataset</h2>"
   ]
  },
  {
   "cell_type": "code",
   "execution_count": 10,
   "id": "37a872a6",
   "metadata": {},
   "outputs": [
    {
     "data": {
      "text/plain": [
       "id                                0\n",
       "member_id                         0\n",
       "loan_amnt                         0\n",
       "funded_amnt                       0\n",
       "funded_amnt_inv                   0\n",
       "                              ...  \n",
       "tax_liens                        39\n",
       "tot_hi_cred_lim               39717\n",
       "total_bal_ex_mort             39717\n",
       "total_bc_limit                39717\n",
       "total_il_high_credit_limit    39717\n",
       "Length: 111, dtype: int64"
      ]
     },
     "execution_count": 10,
     "metadata": {},
     "output_type": "execute_result"
    }
   ],
   "source": [
    "loan_df.isnull().sum()"
   ]
  },
  {
   "cell_type": "markdown",
   "id": "bf1f5e5a",
   "metadata": {},
   "source": [
    "<h2 style = \"color : Purple\">It seems that most of the columns in the dataset is having all values null because number of rows is equal to sum of null values. Let's identify which columns is having null values.</h2>"
   ]
  },
  {
   "cell_type": "code",
   "execution_count": 11,
   "id": "94455f5c",
   "metadata": {},
   "outputs": [
    {
     "data": {
      "text/plain": [
       "Index(['mths_since_last_major_derog', 'annual_inc_joint', 'dti_joint',\n",
       "       'verification_status_joint', 'tot_coll_amt', 'tot_cur_bal',\n",
       "       'open_acc_6m', 'open_il_6m', 'open_il_12m', 'open_il_24m',\n",
       "       'mths_since_rcnt_il', 'total_bal_il', 'il_util', 'open_rv_12m',\n",
       "       'open_rv_24m', 'max_bal_bc', 'all_util', 'total_rev_hi_lim', 'inq_fi',\n",
       "       'total_cu_tl', 'inq_last_12m', 'acc_open_past_24mths', 'avg_cur_bal',\n",
       "       'bc_open_to_buy', 'bc_util', 'mo_sin_old_il_acct',\n",
       "       'mo_sin_old_rev_tl_op', 'mo_sin_rcnt_rev_tl_op', 'mo_sin_rcnt_tl',\n",
       "       'mort_acc', 'mths_since_recent_bc', 'mths_since_recent_bc_dlq',\n",
       "       'mths_since_recent_inq', 'mths_since_recent_revol_delinq',\n",
       "       'num_accts_ever_120_pd', 'num_actv_bc_tl', 'num_actv_rev_tl',\n",
       "       'num_bc_sats', 'num_bc_tl', 'num_il_tl', 'num_op_rev_tl',\n",
       "       'num_rev_accts', 'num_rev_tl_bal_gt_0', 'num_sats', 'num_tl_120dpd_2m',\n",
       "       'num_tl_30dpd', 'num_tl_90g_dpd_24m', 'num_tl_op_past_12m',\n",
       "       'pct_tl_nvr_dlq', 'percent_bc_gt_75', 'tot_hi_cred_lim',\n",
       "       'total_bal_ex_mort', 'total_bc_limit', 'total_il_high_credit_limit'],\n",
       "      dtype='object')"
      ]
     },
     "execution_count": 11,
     "metadata": {},
     "output_type": "execute_result"
    }
   ],
   "source": [
    "empty_columns = loan_df.columns[loan_df.isnull().sum() == 39717]\n",
    "empty_columns"
   ]
  },
  {
   "cell_type": "markdown",
   "id": "60777f2c",
   "metadata": {},
   "source": [
    "<h2 style = \"color : Purple\">Delete unnecessary columns from dataset</h2>"
   ]
  },
  {
   "cell_type": "code",
   "execution_count": 12,
   "id": "b581d6bd",
   "metadata": {},
   "outputs": [],
   "source": [
    "loan_df.drop(empty_columns, axis=1, inplace=True)"
   ]
  },
  {
   "cell_type": "markdown",
   "id": "f045c60f",
   "metadata": {},
   "source": [
    "<h2 style = \"color : Purple\">Verify whether columns are deleted or not from original dataset</h2>"
   ]
  },
  {
   "cell_type": "code",
   "execution_count": 13,
   "id": "72e28363",
   "metadata": {},
   "outputs": [
    {
     "data": {
      "text/plain": [
       "id                                0\n",
       "member_id                         0\n",
       "loan_amnt                         0\n",
       "funded_amnt                       0\n",
       "funded_amnt_inv                   0\n",
       "term                              0\n",
       "int_rate                          0\n",
       "installment                       0\n",
       "grade                             0\n",
       "sub_grade                         0\n",
       "emp_title                      2459\n",
       "emp_length                     1075\n",
       "home_ownership                    0\n",
       "annual_inc                        0\n",
       "verification_status               0\n",
       "issue_d                           0\n",
       "loan_status                       0\n",
       "pymnt_plan                        0\n",
       "url                               0\n",
       "desc                          12940\n",
       "purpose                           0\n",
       "title                            11\n",
       "zip_code                          0\n",
       "addr_state                        0\n",
       "dti                               0\n",
       "delinq_2yrs                       0\n",
       "earliest_cr_line                  0\n",
       "inq_last_6mths                    0\n",
       "mths_since_last_delinq        25682\n",
       "mths_since_last_record        36931\n",
       "open_acc                          0\n",
       "pub_rec                           0\n",
       "revol_bal                         0\n",
       "revol_util                       50\n",
       "total_acc                         0\n",
       "initial_list_status               0\n",
       "out_prncp                         0\n",
       "out_prncp_inv                     0\n",
       "total_pymnt                       0\n",
       "total_pymnt_inv                   0\n",
       "total_rec_prncp                   0\n",
       "total_rec_int                     0\n",
       "total_rec_late_fee                0\n",
       "recoveries                        0\n",
       "collection_recovery_fee           0\n",
       "last_pymnt_d                     71\n",
       "last_pymnt_amnt                   0\n",
       "next_pymnt_d                  38577\n",
       "last_credit_pull_d                2\n",
       "collections_12_mths_ex_med       56\n",
       "policy_code                       0\n",
       "application_type                  0\n",
       "acc_now_delinq                    0\n",
       "chargeoff_within_12_mths         56\n",
       "delinq_amnt                       0\n",
       "pub_rec_bankruptcies            697\n",
       "tax_liens                        39\n",
       "dtype: int64"
      ]
     },
     "execution_count": 13,
     "metadata": {},
     "output_type": "execute_result"
    }
   ],
   "source": [
    "loan_df.isnull().sum()"
   ]
  },
  {
   "cell_type": "code",
   "execution_count": 14,
   "id": "7ebde786",
   "metadata": {},
   "outputs": [
    {
     "data": {
      "text/plain": [
       "(39717, 57)"
      ]
     },
     "execution_count": 14,
     "metadata": {},
     "output_type": "execute_result"
    }
   ],
   "source": [
    "loan_df.shape"
   ]
  },
  {
   "cell_type": "markdown",
   "id": "a9141b76",
   "metadata": {},
   "source": [
    "<h2 style = \"color : Purple\">After deleting unnecessary columns from dataset, It is still showing some columns where null values are greater percentage. Let's drop those columns from dataset.</h2>"
   ]
  },
  {
   "cell_type": "code",
   "execution_count": 15,
   "id": "7f3cb472",
   "metadata": {},
   "outputs": [],
   "source": [
    "loan_df.drop(['mths_since_last_delinq', 'mths_since_last_record','next_pymnt_d','desc','member_id','url','zip_code','tax_liens'], axis=1, inplace=True)"
   ]
  },
  {
   "cell_type": "code",
   "execution_count": 16,
   "id": "8080f8d0",
   "metadata": {},
   "outputs": [
    {
     "data": {
      "text/plain": [
       "(39717, 49)"
      ]
     },
     "execution_count": 16,
     "metadata": {},
     "output_type": "execute_result"
    }
   ],
   "source": [
    "loan_df.shape"
   ]
  },
  {
   "cell_type": "markdown",
   "id": "01df407c",
   "metadata": {},
   "source": [
    "<h2 style = \"color : Purple\">The customer behaviour variables are not available at the time of loan application so we can not perform any prediction on it. Let's drop all properties related to customer variables. For example application_type is having only one value that is \"INDIVIDUAL\".</h2>"
   ]
  },
  {
   "cell_type": "code",
   "execution_count": 17,
   "id": "50f663cb",
   "metadata": {},
   "outputs": [],
   "source": [
    "loan_df.drop(['delinq_2yrs','earliest_cr_line', 'inq_last_6mths', 'open_acc', 'pub_rec', 'revol_bal', 'revol_util', 'total_acc', 'out_prncp', 'out_prncp_inv', 'total_pymnt', 'total_pymnt_inv', 'total_rec_prncp', 'total_rec_int', 'total_rec_late_fee', 'recoveries', 'collection_recovery_fee', 'last_pymnt_d', 'last_pymnt_amnt', 'last_credit_pull_d', 'application_type', 'emp_title'], axis=1, inplace=True)"
   ]
  },
  {
   "cell_type": "code",
   "execution_count": 18,
   "id": "da82d73d",
   "metadata": {},
   "outputs": [
    {
     "data": {
      "text/plain": [
       "(39717, 27)"
      ]
     },
     "execution_count": 18,
     "metadata": {},
     "output_type": "execute_result"
    }
   ],
   "source": [
    "loan_df.shape"
   ]
  },
  {
   "cell_type": "code",
   "execution_count": 19,
   "id": "4e8b0927",
   "metadata": {},
   "outputs": [
    {
     "data": {
      "text/plain": [
       "0.0    37339\n",
       "1.0     1674\n",
       "2.0        7\n",
       "Name: pub_rec_bankruptcies, dtype: int64"
      ]
     },
     "execution_count": 19,
     "metadata": {},
     "output_type": "execute_result"
    }
   ],
   "source": [
    "loan_df['pub_rec_bankruptcies'].value_counts()"
   ]
  },
  {
   "cell_type": "markdown",
   "id": "0c36ac9e",
   "metadata": {},
   "source": [
    "<h2 style = \"color : Purple\">Identified few more columns and seems that some columns is having only one value. For example : policy_code, acc_now_delinq, initial_list_status, chargeoff_within_12_mths, delinq_amnt. Let's drop those columns.</h2>"
   ]
  },
  {
   "cell_type": "code",
   "execution_count": 20,
   "id": "9fa07709",
   "metadata": {},
   "outputs": [],
   "source": [
    "loan_df.drop(['policy_code','acc_now_delinq','initial_list_status','chargeoff_within_12_mths','delinq_amnt','pymnt_plan','collections_12_mths_ex_med'], axis=1, inplace=True)"
   ]
  },
  {
   "cell_type": "code",
   "execution_count": 21,
   "id": "d0a71ef4",
   "metadata": {},
   "outputs": [
    {
     "data": {
      "text/plain": [
       "id                         0\n",
       "loan_amnt                  0\n",
       "funded_amnt                0\n",
       "funded_amnt_inv            0\n",
       "term                       0\n",
       "int_rate                   0\n",
       "installment                0\n",
       "grade                      0\n",
       "sub_grade                  0\n",
       "emp_length              1075\n",
       "home_ownership             0\n",
       "annual_inc                 0\n",
       "verification_status        0\n",
       "issue_d                    0\n",
       "loan_status                0\n",
       "purpose                    0\n",
       "title                     11\n",
       "addr_state                 0\n",
       "dti                        0\n",
       "pub_rec_bankruptcies     697\n",
       "dtype: int64"
      ]
     },
     "execution_count": 21,
     "metadata": {},
     "output_type": "execute_result"
    }
   ],
   "source": [
    "loan_df.isnull().sum()"
   ]
  },
  {
   "cell_type": "code",
   "execution_count": 22,
   "id": "8cbf7ded",
   "metadata": {},
   "outputs": [],
   "source": [
    "loan_df['title'] = loan_df['title'].fillna(loan_df['title'].mode()[0])"
   ]
  },
  {
   "cell_type": "code",
   "execution_count": 23,
   "id": "c66c9e2d",
   "metadata": {},
   "outputs": [],
   "source": [
    "loan_df['emp_length'] = loan_df['emp_length'].fillna(loan_df.emp_length.mode()[0])"
   ]
  },
  {
   "cell_type": "code",
   "execution_count": 24,
   "id": "9df3501e",
   "metadata": {},
   "outputs": [],
   "source": [
    "loan_df['pub_rec_bankruptcies'] = loan_df['pub_rec_bankruptcies'].fillna('Unknown')"
   ]
  },
  {
   "cell_type": "code",
   "execution_count": 25,
   "id": "191f2406",
   "metadata": {},
   "outputs": [
    {
     "data": {
      "text/plain": [
       "id                      0\n",
       "loan_amnt               0\n",
       "funded_amnt             0\n",
       "funded_amnt_inv         0\n",
       "term                    0\n",
       "int_rate                0\n",
       "installment             0\n",
       "grade                   0\n",
       "sub_grade               0\n",
       "emp_length              0\n",
       "home_ownership          0\n",
       "annual_inc              0\n",
       "verification_status     0\n",
       "issue_d                 0\n",
       "loan_status             0\n",
       "purpose                 0\n",
       "title                   0\n",
       "addr_state              0\n",
       "dti                     0\n",
       "pub_rec_bankruptcies    0\n",
       "dtype: int64"
      ]
     },
     "execution_count": 25,
     "metadata": {},
     "output_type": "execute_result"
    }
   ],
   "source": [
    "loan_df.isnull().sum()"
   ]
  },
  {
   "cell_type": "markdown",
   "id": "f7c10bb5",
   "metadata": {},
   "source": [
    "<h2 style = \"color : Purple\">The ones marked 'Current' are neither fully paid not defaulted, so drop those records with status 'Current'.</h2>"
   ]
  },
  {
   "cell_type": "code",
   "execution_count": 26,
   "id": "28db5fa5",
   "metadata": {},
   "outputs": [
    {
     "data": {
      "text/html": [
       "<div>\n",
       "<style scoped>\n",
       "    .dataframe tbody tr th:only-of-type {\n",
       "        vertical-align: middle;\n",
       "    }\n",
       "\n",
       "    .dataframe tbody tr th {\n",
       "        vertical-align: top;\n",
       "    }\n",
       "\n",
       "    .dataframe thead th {\n",
       "        text-align: right;\n",
       "    }\n",
       "</style>\n",
       "<table border=\"1\" class=\"dataframe\">\n",
       "  <thead>\n",
       "    <tr style=\"text-align: right;\">\n",
       "      <th></th>\n",
       "      <th>id</th>\n",
       "      <th>loan_amnt</th>\n",
       "      <th>funded_amnt</th>\n",
       "      <th>funded_amnt_inv</th>\n",
       "      <th>term</th>\n",
       "      <th>int_rate</th>\n",
       "      <th>installment</th>\n",
       "      <th>grade</th>\n",
       "      <th>sub_grade</th>\n",
       "      <th>emp_length</th>\n",
       "      <th>home_ownership</th>\n",
       "      <th>annual_inc</th>\n",
       "      <th>verification_status</th>\n",
       "      <th>issue_d</th>\n",
       "      <th>loan_status</th>\n",
       "      <th>purpose</th>\n",
       "      <th>title</th>\n",
       "      <th>addr_state</th>\n",
       "      <th>dti</th>\n",
       "      <th>pub_rec_bankruptcies</th>\n",
       "    </tr>\n",
       "  </thead>\n",
       "  <tbody>\n",
       "    <tr>\n",
       "      <th>0</th>\n",
       "      <td>1077501</td>\n",
       "      <td>5000</td>\n",
       "      <td>5000</td>\n",
       "      <td>4975.0</td>\n",
       "      <td>36 months</td>\n",
       "      <td>10.65%</td>\n",
       "      <td>162.87</td>\n",
       "      <td>B</td>\n",
       "      <td>B2</td>\n",
       "      <td>10+ years</td>\n",
       "      <td>RENT</td>\n",
       "      <td>24000.0</td>\n",
       "      <td>Verified</td>\n",
       "      <td>Dec-11</td>\n",
       "      <td>Fully Paid</td>\n",
       "      <td>credit_card</td>\n",
       "      <td>Computer</td>\n",
       "      <td>AZ</td>\n",
       "      <td>27.65</td>\n",
       "      <td>0.0</td>\n",
       "    </tr>\n",
       "    <tr>\n",
       "      <th>1</th>\n",
       "      <td>1077430</td>\n",
       "      <td>2500</td>\n",
       "      <td>2500</td>\n",
       "      <td>2500.0</td>\n",
       "      <td>60 months</td>\n",
       "      <td>15.27%</td>\n",
       "      <td>59.83</td>\n",
       "      <td>C</td>\n",
       "      <td>C4</td>\n",
       "      <td>&lt; 1 year</td>\n",
       "      <td>RENT</td>\n",
       "      <td>30000.0</td>\n",
       "      <td>Source Verified</td>\n",
       "      <td>Dec-11</td>\n",
       "      <td>Charged Off</td>\n",
       "      <td>car</td>\n",
       "      <td>bike</td>\n",
       "      <td>GA</td>\n",
       "      <td>1.00</td>\n",
       "      <td>0.0</td>\n",
       "    </tr>\n",
       "    <tr>\n",
       "      <th>2</th>\n",
       "      <td>1077175</td>\n",
       "      <td>2400</td>\n",
       "      <td>2400</td>\n",
       "      <td>2400.0</td>\n",
       "      <td>36 months</td>\n",
       "      <td>15.96%</td>\n",
       "      <td>84.33</td>\n",
       "      <td>C</td>\n",
       "      <td>C5</td>\n",
       "      <td>10+ years</td>\n",
       "      <td>RENT</td>\n",
       "      <td>12252.0</td>\n",
       "      <td>Not Verified</td>\n",
       "      <td>Dec-11</td>\n",
       "      <td>Fully Paid</td>\n",
       "      <td>small_business</td>\n",
       "      <td>real estate business</td>\n",
       "      <td>IL</td>\n",
       "      <td>8.72</td>\n",
       "      <td>0.0</td>\n",
       "    </tr>\n",
       "    <tr>\n",
       "      <th>3</th>\n",
       "      <td>1076863</td>\n",
       "      <td>10000</td>\n",
       "      <td>10000</td>\n",
       "      <td>10000.0</td>\n",
       "      <td>36 months</td>\n",
       "      <td>13.49%</td>\n",
       "      <td>339.31</td>\n",
       "      <td>C</td>\n",
       "      <td>C1</td>\n",
       "      <td>10+ years</td>\n",
       "      <td>RENT</td>\n",
       "      <td>49200.0</td>\n",
       "      <td>Source Verified</td>\n",
       "      <td>Dec-11</td>\n",
       "      <td>Fully Paid</td>\n",
       "      <td>other</td>\n",
       "      <td>personel</td>\n",
       "      <td>CA</td>\n",
       "      <td>20.00</td>\n",
       "      <td>0.0</td>\n",
       "    </tr>\n",
       "    <tr>\n",
       "      <th>5</th>\n",
       "      <td>1075269</td>\n",
       "      <td>5000</td>\n",
       "      <td>5000</td>\n",
       "      <td>5000.0</td>\n",
       "      <td>36 months</td>\n",
       "      <td>7.90%</td>\n",
       "      <td>156.46</td>\n",
       "      <td>A</td>\n",
       "      <td>A4</td>\n",
       "      <td>3 years</td>\n",
       "      <td>RENT</td>\n",
       "      <td>36000.0</td>\n",
       "      <td>Source Verified</td>\n",
       "      <td>Dec-11</td>\n",
       "      <td>Fully Paid</td>\n",
       "      <td>wedding</td>\n",
       "      <td>My wedding loan I promise to pay back</td>\n",
       "      <td>AZ</td>\n",
       "      <td>11.20</td>\n",
       "      <td>0.0</td>\n",
       "    </tr>\n",
       "    <tr>\n",
       "      <th>...</th>\n",
       "      <td>...</td>\n",
       "      <td>...</td>\n",
       "      <td>...</td>\n",
       "      <td>...</td>\n",
       "      <td>...</td>\n",
       "      <td>...</td>\n",
       "      <td>...</td>\n",
       "      <td>...</td>\n",
       "      <td>...</td>\n",
       "      <td>...</td>\n",
       "      <td>...</td>\n",
       "      <td>...</td>\n",
       "      <td>...</td>\n",
       "      <td>...</td>\n",
       "      <td>...</td>\n",
       "      <td>...</td>\n",
       "      <td>...</td>\n",
       "      <td>...</td>\n",
       "      <td>...</td>\n",
       "      <td>...</td>\n",
       "    </tr>\n",
       "    <tr>\n",
       "      <th>39712</th>\n",
       "      <td>92187</td>\n",
       "      <td>2500</td>\n",
       "      <td>2500</td>\n",
       "      <td>1075.0</td>\n",
       "      <td>36 months</td>\n",
       "      <td>8.07%</td>\n",
       "      <td>78.42</td>\n",
       "      <td>A</td>\n",
       "      <td>A4</td>\n",
       "      <td>4 years</td>\n",
       "      <td>MORTGAGE</td>\n",
       "      <td>110000.0</td>\n",
       "      <td>Not Verified</td>\n",
       "      <td>Jul-07</td>\n",
       "      <td>Fully Paid</td>\n",
       "      <td>home_improvement</td>\n",
       "      <td>Home Improvement</td>\n",
       "      <td>CO</td>\n",
       "      <td>11.33</td>\n",
       "      <td>Unknown</td>\n",
       "    </tr>\n",
       "    <tr>\n",
       "      <th>39713</th>\n",
       "      <td>90665</td>\n",
       "      <td>8500</td>\n",
       "      <td>8500</td>\n",
       "      <td>875.0</td>\n",
       "      <td>36 months</td>\n",
       "      <td>10.28%</td>\n",
       "      <td>275.38</td>\n",
       "      <td>C</td>\n",
       "      <td>C1</td>\n",
       "      <td>3 years</td>\n",
       "      <td>RENT</td>\n",
       "      <td>18000.0</td>\n",
       "      <td>Not Verified</td>\n",
       "      <td>Jul-07</td>\n",
       "      <td>Fully Paid</td>\n",
       "      <td>credit_card</td>\n",
       "      <td>Retiring credit card debt</td>\n",
       "      <td>NC</td>\n",
       "      <td>6.40</td>\n",
       "      <td>Unknown</td>\n",
       "    </tr>\n",
       "    <tr>\n",
       "      <th>39714</th>\n",
       "      <td>90395</td>\n",
       "      <td>5000</td>\n",
       "      <td>5000</td>\n",
       "      <td>1325.0</td>\n",
       "      <td>36 months</td>\n",
       "      <td>8.07%</td>\n",
       "      <td>156.84</td>\n",
       "      <td>A</td>\n",
       "      <td>A4</td>\n",
       "      <td>&lt; 1 year</td>\n",
       "      <td>MORTGAGE</td>\n",
       "      <td>100000.0</td>\n",
       "      <td>Not Verified</td>\n",
       "      <td>Jul-07</td>\n",
       "      <td>Fully Paid</td>\n",
       "      <td>debt_consolidation</td>\n",
       "      <td>MBA Loan Consolidation</td>\n",
       "      <td>MA</td>\n",
       "      <td>2.30</td>\n",
       "      <td>Unknown</td>\n",
       "    </tr>\n",
       "    <tr>\n",
       "      <th>39715</th>\n",
       "      <td>90376</td>\n",
       "      <td>5000</td>\n",
       "      <td>5000</td>\n",
       "      <td>650.0</td>\n",
       "      <td>36 months</td>\n",
       "      <td>7.43%</td>\n",
       "      <td>155.38</td>\n",
       "      <td>A</td>\n",
       "      <td>A2</td>\n",
       "      <td>&lt; 1 year</td>\n",
       "      <td>MORTGAGE</td>\n",
       "      <td>200000.0</td>\n",
       "      <td>Not Verified</td>\n",
       "      <td>Jul-07</td>\n",
       "      <td>Fully Paid</td>\n",
       "      <td>other</td>\n",
       "      <td>JAL Loan</td>\n",
       "      <td>MD</td>\n",
       "      <td>3.72</td>\n",
       "      <td>Unknown</td>\n",
       "    </tr>\n",
       "    <tr>\n",
       "      <th>39716</th>\n",
       "      <td>87023</td>\n",
       "      <td>7500</td>\n",
       "      <td>7500</td>\n",
       "      <td>800.0</td>\n",
       "      <td>36 months</td>\n",
       "      <td>13.75%</td>\n",
       "      <td>255.43</td>\n",
       "      <td>E</td>\n",
       "      <td>E2</td>\n",
       "      <td>&lt; 1 year</td>\n",
       "      <td>OWN</td>\n",
       "      <td>22000.0</td>\n",
       "      <td>Not Verified</td>\n",
       "      <td>Jun-07</td>\n",
       "      <td>Fully Paid</td>\n",
       "      <td>debt_consolidation</td>\n",
       "      <td>Consolidation Loan</td>\n",
       "      <td>MA</td>\n",
       "      <td>14.29</td>\n",
       "      <td>Unknown</td>\n",
       "    </tr>\n",
       "  </tbody>\n",
       "</table>\n",
       "<p>38577 rows × 20 columns</p>\n",
       "</div>"
      ],
      "text/plain": [
       "            id  loan_amnt  funded_amnt  funded_amnt_inv        term int_rate  \\\n",
       "0      1077501       5000         5000           4975.0   36 months   10.65%   \n",
       "1      1077430       2500         2500           2500.0   60 months   15.27%   \n",
       "2      1077175       2400         2400           2400.0   36 months   15.96%   \n",
       "3      1076863      10000        10000          10000.0   36 months   13.49%   \n",
       "5      1075269       5000         5000           5000.0   36 months    7.90%   \n",
       "...        ...        ...          ...              ...         ...      ...   \n",
       "39712    92187       2500         2500           1075.0   36 months    8.07%   \n",
       "39713    90665       8500         8500            875.0   36 months   10.28%   \n",
       "39714    90395       5000         5000           1325.0   36 months    8.07%   \n",
       "39715    90376       5000         5000            650.0   36 months    7.43%   \n",
       "39716    87023       7500         7500            800.0   36 months   13.75%   \n",
       "\n",
       "       installment grade sub_grade emp_length home_ownership  annual_inc  \\\n",
       "0           162.87     B        B2  10+ years           RENT     24000.0   \n",
       "1            59.83     C        C4   < 1 year           RENT     30000.0   \n",
       "2            84.33     C        C5  10+ years           RENT     12252.0   \n",
       "3           339.31     C        C1  10+ years           RENT     49200.0   \n",
       "5           156.46     A        A4    3 years           RENT     36000.0   \n",
       "...            ...   ...       ...        ...            ...         ...   \n",
       "39712        78.42     A        A4    4 years       MORTGAGE    110000.0   \n",
       "39713       275.38     C        C1    3 years           RENT     18000.0   \n",
       "39714       156.84     A        A4   < 1 year       MORTGAGE    100000.0   \n",
       "39715       155.38     A        A2   < 1 year       MORTGAGE    200000.0   \n",
       "39716       255.43     E        E2   < 1 year            OWN     22000.0   \n",
       "\n",
       "      verification_status issue_d  loan_status             purpose  \\\n",
       "0                Verified  Dec-11   Fully Paid         credit_card   \n",
       "1         Source Verified  Dec-11  Charged Off                 car   \n",
       "2            Not Verified  Dec-11   Fully Paid      small_business   \n",
       "3         Source Verified  Dec-11   Fully Paid               other   \n",
       "5         Source Verified  Dec-11   Fully Paid             wedding   \n",
       "...                   ...     ...          ...                 ...   \n",
       "39712        Not Verified  Jul-07   Fully Paid    home_improvement   \n",
       "39713        Not Verified  Jul-07   Fully Paid         credit_card   \n",
       "39714        Not Verified  Jul-07   Fully Paid  debt_consolidation   \n",
       "39715        Not Verified  Jul-07   Fully Paid               other   \n",
       "39716        Not Verified  Jun-07   Fully Paid  debt_consolidation   \n",
       "\n",
       "                                       title addr_state    dti  \\\n",
       "0                                   Computer         AZ  27.65   \n",
       "1                                       bike         GA   1.00   \n",
       "2                       real estate business         IL   8.72   \n",
       "3                                   personel         CA  20.00   \n",
       "5      My wedding loan I promise to pay back         AZ  11.20   \n",
       "...                                      ...        ...    ...   \n",
       "39712                       Home Improvement         CO  11.33   \n",
       "39713              Retiring credit card debt         NC   6.40   \n",
       "39714                 MBA Loan Consolidation         MA   2.30   \n",
       "39715                               JAL Loan         MD   3.72   \n",
       "39716                     Consolidation Loan         MA  14.29   \n",
       "\n",
       "      pub_rec_bankruptcies  \n",
       "0                      0.0  \n",
       "1                      0.0  \n",
       "2                      0.0  \n",
       "3                      0.0  \n",
       "5                      0.0  \n",
       "...                    ...  \n",
       "39712              Unknown  \n",
       "39713              Unknown  \n",
       "39714              Unknown  \n",
       "39715              Unknown  \n",
       "39716              Unknown  \n",
       "\n",
       "[38577 rows x 20 columns]"
      ]
     },
     "execution_count": 26,
     "metadata": {},
     "output_type": "execute_result"
    }
   ],
   "source": [
    "loan_df = loan_df[~(loan_df['loan_status'] == 'Current')]\n",
    "loan_df"
   ]
  },
  {
   "cell_type": "code",
   "execution_count": 27,
   "id": "f0c3df9b",
   "metadata": {},
   "outputs": [
    {
     "name": "stdout",
     "output_type": "stream",
     "text": [
      "<class 'pandas.core.frame.DataFrame'>\n",
      "Int64Index: 38577 entries, 0 to 39716\n",
      "Data columns (total 20 columns):\n",
      " #   Column                Non-Null Count  Dtype  \n",
      "---  ------                --------------  -----  \n",
      " 0   id                    38577 non-null  int64  \n",
      " 1   loan_amnt             38577 non-null  int64  \n",
      " 2   funded_amnt           38577 non-null  int64  \n",
      " 3   funded_amnt_inv       38577 non-null  float64\n",
      " 4   term                  38577 non-null  object \n",
      " 5   int_rate              38577 non-null  object \n",
      " 6   installment           38577 non-null  float64\n",
      " 7   grade                 38577 non-null  object \n",
      " 8   sub_grade             38577 non-null  object \n",
      " 9   emp_length            38577 non-null  object \n",
      " 10  home_ownership        38577 non-null  object \n",
      " 11  annual_inc            38577 non-null  float64\n",
      " 12  verification_status   38577 non-null  object \n",
      " 13  issue_d               38577 non-null  object \n",
      " 14  loan_status           38577 non-null  object \n",
      " 15  purpose               38577 non-null  object \n",
      " 16  title                 38577 non-null  object \n",
      " 17  addr_state            38577 non-null  object \n",
      " 18  dti                   38577 non-null  float64\n",
      " 19  pub_rec_bankruptcies  38577 non-null  object \n",
      "dtypes: float64(4), int64(3), object(13)\n",
      "memory usage: 6.2+ MB\n"
     ]
    }
   ],
   "source": [
    "loan_df.info()"
   ]
  },
  {
   "cell_type": "markdown",
   "id": "5871b6e8",
   "metadata": {},
   "source": [
    "<h2 style = \"color : Purple\">5. Univariate Analysis : Draw Boxplot for Annual Income</h2>"
   ]
  },
  {
   "cell_type": "code",
   "execution_count": 28,
   "id": "046026a1",
   "metadata": {},
   "outputs": [
    {
     "data": {
      "image/png": "[encoded data removed]",
      "text/plain": [
       "<Figure size 864x432 with 1 Axes>"
      ]
     },
     "metadata": {
      "needs_background": "light"
     },
     "output_type": "display_data"
    }
   ],
   "source": [
    "plt.figure(figsize=(12,6))\n",
    "plt.boxplot(loan_df.annual_inc)\n",
    "plt.style.use('ggplot')\n",
    "plt.show()"
   ]
  },
  {
   "cell_type": "code",
   "execution_count": 29,
   "id": "b489754e",
   "metadata": {},
   "outputs": [
    {
     "name": "stdout",
     "output_type": "stream",
     "text": [
      "42000.0\n"
     ]
    }
   ],
   "source": [
    "Q1 = loan_df['annual_inc'].quantile(0.25)\n",
    "Q3 = loan_df['annual_inc'].quantile(0.75)\n",
    "IQR = Q3 - Q1\n",
    "print(IQR)"
   ]
  },
  {
   "cell_type": "markdown",
   "id": "ec1118ca",
   "metadata": {},
   "source": [
    "#### Observations : There are outliers for annual income, So we need to remove it"
   ]
  },
  {
   "cell_type": "code",
   "execution_count": 30,
   "id": "207c615a",
   "metadata": {},
   "outputs": [],
   "source": [
    "loan_df = loan_df[~((loan_df['annual_inc'] < (Q1 - 1.5 * IQR)) | (loan_df['annual_inc'] > (Q3 + 1.5 * IQR)))]"
   ]
  },
  {
   "cell_type": "code",
   "execution_count": 31,
   "id": "67cdb3cf",
   "metadata": {},
   "outputs": [
    {
     "data": {
      "image/png": "[encoded data removed]",
      "text/plain": [
       "<Figure size 864x432 with 1 Axes>"
      ]
     },
     "metadata": {},
     "output_type": "display_data"
    }
   ],
   "source": [
    "plt.figure(figsize=(12,6))\n",
    "plt.boxplot(loan_df.annual_inc)\n",
    "plt.show()"
   ]
  },
  {
   "cell_type": "code",
   "execution_count": 32,
   "id": "7741befd",
   "metadata": {},
   "outputs": [
    {
     "data": {
      "image/png": "[encoded data removed]",
      "text/plain": [
       "<Figure size 432x288 with 1 Axes>"
      ]
     },
     "metadata": {},
     "output_type": "display_data"
    }
   ],
   "source": [
    "plt.boxplot(loan_df['funded_amnt_inv'])\n",
    "plt.show()"
   ]
  },
  {
   "cell_type": "markdown",
   "id": "739291a6",
   "metadata": {},
   "source": [
    "#### It seems the interest rate is having % sign in it. Let's remove it from interest rate column."
   ]
  },
  {
   "cell_type": "code",
   "execution_count": 33,
   "id": "0c95c5fd",
   "metadata": {},
   "outputs": [],
   "source": [
    "loan_df['int_rate'] = loan_df['int_rate'].apply(lambda x: float(x.replace('%','')))"
   ]
  },
  {
   "cell_type": "code",
   "execution_count": 34,
   "id": "5a62e0e1",
   "metadata": {},
   "outputs": [
    {
     "data": {
      "image/png": "[encoded data removed]",
      "text/plain": [
       "<Figure size 432x288 with 1 Axes>"
      ]
     },
     "metadata": {},
     "output_type": "display_data"
    }
   ],
   "source": [
    "plt.boxplot(loan_df['int_rate'])\n",
    "plt.show()"
   ]
  },
  {
   "cell_type": "code",
   "execution_count": 35,
   "id": "6ff376b5",
   "metadata": {},
   "outputs": [],
   "source": [
    "loan_df['default'] = loan_df['loan_status'].apply(lambda x: 0 if x=='Fully Paid' else 1)"
   ]
  },
  {
   "cell_type": "code",
   "execution_count": 36,
   "id": "a4e2bfaf",
   "metadata": {},
   "outputs": [
    {
     "data": {
      "image/png": "[encoded data removed]",
      "text/plain": [
       "<Figure size 720x360 with 1 Axes>"
      ]
     },
     "metadata": {},
     "output_type": "display_data"
    }
   ],
   "source": [
    "loan_df.term.value_counts().plot(kind='bar', figsize=(10,5), edgecolor='red', color=['green','purple'])\n",
    "plt.title('Number of customers by term', fontdict={'fontsize':20, 'color':'Blue','fontweight':2})\n",
    "plt.ylabel('Number of customers')\n",
    "plt.xlabel('Term of Loan')\n",
    "plt.show()"
   ]
  },
  {
   "cell_type": "markdown",
   "id": "1d23111b",
   "metadata": {},
   "source": [
    "#### Observation : Most of the customers are preferring 36 months over 60 months."
   ]
  },
  {
   "cell_type": "code",
   "execution_count": 37,
   "id": "b315fb63",
   "metadata": {},
   "outputs": [
    {
     "data": {
      "text/html": [
       "<div>\n",
       "<style scoped>\n",
       "    .dataframe tbody tr th:only-of-type {\n",
       "        vertical-align: middle;\n",
       "    }\n",
       "\n",
       "    .dataframe tbody tr th {\n",
       "        vertical-align: top;\n",
       "    }\n",
       "\n",
       "    .dataframe thead th {\n",
       "        text-align: right;\n",
       "    }\n",
       "</style>\n",
       "<table border=\"1\" class=\"dataframe\">\n",
       "  <thead>\n",
       "    <tr style=\"text-align: right;\">\n",
       "      <th>loan_status</th>\n",
       "      <th>Charged Off</th>\n",
       "      <th>Fully Paid</th>\n",
       "      <th>ChargedOff_Proportion</th>\n",
       "      <th>FullyPaid_Proportion</th>\n",
       "    </tr>\n",
       "    <tr>\n",
       "      <th>term</th>\n",
       "      <th></th>\n",
       "      <th></th>\n",
       "      <th></th>\n",
       "      <th></th>\n",
       "    </tr>\n",
       "  </thead>\n",
       "  <tbody>\n",
       "    <tr>\n",
       "      <th>36 months</th>\n",
       "      <td>3120</td>\n",
       "      <td>24717</td>\n",
       "      <td>0.112081</td>\n",
       "      <td>0.887919</td>\n",
       "    </tr>\n",
       "    <tr>\n",
       "      <th>60 months</th>\n",
       "      <td>2311</td>\n",
       "      <td>6667</td>\n",
       "      <td>0.257407</td>\n",
       "      <td>0.742593</td>\n",
       "    </tr>\n",
       "  </tbody>\n",
       "</table>\n",
       "</div>"
      ],
      "text/plain": [
       "loan_status  Charged Off  Fully Paid  ChargedOff_Proportion  \\\n",
       "term                                                          \n",
       " 36 months          3120       24717               0.112081   \n",
       " 60 months          2311        6667               0.257407   \n",
       "\n",
       "loan_status  FullyPaid_Proportion  \n",
       "term                               \n",
       " 36 months               0.887919  \n",
       " 60 months               0.742593  "
      ]
     },
     "execution_count": 37,
     "metadata": {},
     "output_type": "execute_result"
    }
   ],
   "source": [
    "term_df = loan_df.groupby('term')['loan_status'].value_counts().unstack()\n",
    "term_df['ChargedOff_Proportion'] = term_df['Charged Off']/(term_df['Charged Off'] + term_df['Fully Paid'])\n",
    "term_df['FullyPaid_Proportion'] = term_df['Fully Paid']/(term_df['Charged Off'] + term_df['Fully Paid'])\n",
    "term_df"
   ]
  },
  {
   "cell_type": "code",
   "execution_count": 38,
   "id": "20fd49f5",
   "metadata": {},
   "outputs": [
    {
     "data": {
      "image/png": "[encoded data removed]",
      "text/plain": [
       "<Figure size 432x288 with 1 Axes>"
      ]
     },
     "metadata": {},
     "output_type": "display_data"
    }
   ],
   "source": [
    "term_df[['ChargedOff_Proportion','FullyPaid_Proportion']].plot(kind='bar', stacked=True)\n",
    "plt.show()"
   ]
  },
  {
   "cell_type": "markdown",
   "id": "63cfa99b",
   "metadata": {},
   "source": [
    "#### Customers who is applying for loan period of 60 months has greater defaulters than customers who is applying for 36 months."
   ]
  },
  {
   "cell_type": "code",
   "execution_count": 39,
   "id": "ffb4d77e",
   "metadata": {},
   "outputs": [
    {
     "data": {
      "image/png": "[encoded data removed]",
      "text/plain": [
       "<Figure size 720x360 with 1 Axes>"
      ]
     },
     "metadata": {},
     "output_type": "display_data"
    }
   ],
   "source": [
    "loan_df.verification_status.value_counts().plot(kind='bar', figsize=(10,5), edgecolor='red', color=['green','purple','cyan'])\n",
    "plt.title('Number of customers by verification status', fontdict={'fontsize':20, 'color':'Blue','fontweight':2})\n",
    "plt.ylabel('Number of customers')\n",
    "plt.xlabel('Verification Status')\n",
    "plt.show()"
   ]
  },
  {
   "cell_type": "markdown",
   "id": "01fa7bb3",
   "metadata": {},
   "source": [
    "### Most of the customers verification status is Not Verified followed by Verified"
   ]
  },
  {
   "cell_type": "code",
   "execution_count": 40,
   "id": "169ffddd",
   "metadata": {},
   "outputs": [
    {
     "data": {
      "text/html": [
       "<div>\n",
       "<style scoped>\n",
       "    .dataframe tbody tr th:only-of-type {\n",
       "        vertical-align: middle;\n",
       "    }\n",
       "\n",
       "    .dataframe tbody tr th {\n",
       "        vertical-align: top;\n",
       "    }\n",
       "\n",
       "    .dataframe thead th {\n",
       "        text-align: right;\n",
       "    }\n",
       "</style>\n",
       "<table border=\"1\" class=\"dataframe\">\n",
       "  <thead>\n",
       "    <tr style=\"text-align: right;\">\n",
       "      <th>loan_status</th>\n",
       "      <th>Charged Off</th>\n",
       "      <th>Fully Paid</th>\n",
       "      <th>ChargedOff_Proportion</th>\n",
       "      <th>FullyPaid_Proportion</th>\n",
       "    </tr>\n",
       "    <tr>\n",
       "      <th>verification_status</th>\n",
       "      <th></th>\n",
       "      <th></th>\n",
       "      <th></th>\n",
       "      <th></th>\n",
       "    </tr>\n",
       "  </thead>\n",
       "  <tbody>\n",
       "    <tr>\n",
       "      <th>Not Verified</th>\n",
       "      <td>2099</td>\n",
       "      <td>14221</td>\n",
       "      <td>0.128615</td>\n",
       "      <td>0.871385</td>\n",
       "    </tr>\n",
       "    <tr>\n",
       "      <th>Source Verified</th>\n",
       "      <td>1375</td>\n",
       "      <td>7820</td>\n",
       "      <td>0.149538</td>\n",
       "      <td>0.850462</td>\n",
       "    </tr>\n",
       "    <tr>\n",
       "      <th>Verified</th>\n",
       "      <td>1957</td>\n",
       "      <td>9343</td>\n",
       "      <td>0.173186</td>\n",
       "      <td>0.826814</td>\n",
       "    </tr>\n",
       "  </tbody>\n",
       "</table>\n",
       "</div>"
      ],
      "text/plain": [
       "loan_status          Charged Off  Fully Paid  ChargedOff_Proportion  \\\n",
       "verification_status                                                   \n",
       "Not Verified                2099       14221               0.128615   \n",
       "Source Verified             1375        7820               0.149538   \n",
       "Verified                    1957        9343               0.173186   \n",
       "\n",
       "loan_status          FullyPaid_Proportion  \n",
       "verification_status                        \n",
       "Not Verified                     0.871385  \n",
       "Source Verified                  0.850462  \n",
       "Verified                         0.826814  "
      ]
     },
     "execution_count": 40,
     "metadata": {},
     "output_type": "execute_result"
    }
   ],
   "source": [
    "verification_df = loan_df.groupby('verification_status')['loan_status'].value_counts().unstack()\n",
    "verification_df['ChargedOff_Proportion'] = verification_df['Charged Off']/(verification_df['Charged Off'] + verification_df['Fully Paid'])\n",
    "verification_df['FullyPaid_Proportion'] = verification_df['Fully Paid']/(verification_df['Charged Off'] + verification_df['Fully Paid'])\n",
    "verification_df"
   ]
  },
  {
   "cell_type": "code",
   "execution_count": 35,
   "id": "d88ee8d8",
   "metadata": {},
   "outputs": [
    {
     "data": {
      "image/png": "[encoded data removed]",
      "text/plain": [
       "<Figure size 432x288 with 1 Axes>"
      ]
     },
     "metadata": {},
     "output_type": "display_data"
    }
   ],
   "source": [
    "verification_df[['ChargedOff_Proportion','FullyPaid_Proportion']].plot(kind='bar', stacked=True)\n",
    "plt.show()"
   ]
  },
  {
   "cell_type": "markdown",
   "id": "7d2af543",
   "metadata": {},
   "source": [
    "### Verified status is having more defaulters as compared to others. Similarly for Not Verified verification status less defaulters.¶"
   ]
  },
  {
   "cell_type": "code",
   "execution_count": 36,
   "id": "8231380a",
   "metadata": {},
   "outputs": [
    {
     "data": {
      "image/png": "[encoded data removed]",
      "text/plain": [
       "<Figure size 1440x576 with 1 Axes>"
      ]
     },
     "metadata": {},
     "output_type": "display_data"
    }
   ],
   "source": [
    "plt.figure(figsize=(20, 8))\n",
    "plt.xticks(rotation=45, color='Purple')\n",
    "plt.yticks(rotation=45, color='Purple')\n",
    "plt.title('Purpose wise Loan Status', fontdict={'fontsize':15, 'color':'Red', 'fontweight':5})\n",
    "sns.barplot(x='purpose', y='default', data=loan_df, palette='dark')\n",
    "plt.xlabel(\"Purpose of Loan\", color='Red')\n",
    "plt.ylabel(\"Loan Status\", color='Red')\n",
    "plt.show()"
   ]
  },
  {
   "cell_type": "markdown",
   "id": "a067f45b",
   "metadata": {},
   "source": [
    "### From above we can identify that small business purpose is having large number of Charged Off"
   ]
  },
  {
   "cell_type": "code",
   "execution_count": 41,
   "id": "33ec14e5",
   "metadata": {},
   "outputs": [
    {
     "data": {
      "text/html": [
       "<div>\n",
       "<style scoped>\n",
       "    .dataframe tbody tr th:only-of-type {\n",
       "        vertical-align: middle;\n",
       "    }\n",
       "\n",
       "    .dataframe tbody tr th {\n",
       "        vertical-align: top;\n",
       "    }\n",
       "\n",
       "    .dataframe thead th {\n",
       "        text-align: right;\n",
       "    }\n",
       "</style>\n",
       "<table border=\"1\" class=\"dataframe\">\n",
       "  <thead>\n",
       "    <tr style=\"text-align: right;\">\n",
       "      <th>loan_status</th>\n",
       "      <th>grade</th>\n",
       "      <th>Charged Off</th>\n",
       "      <th>Fully Paid</th>\n",
       "      <th>Total</th>\n",
       "      <th>Charged_Off_Proportion</th>\n",
       "    </tr>\n",
       "  </thead>\n",
       "  <tbody>\n",
       "    <tr>\n",
       "      <th>6</th>\n",
       "      <td>G</td>\n",
       "      <td>96</td>\n",
       "      <td>171</td>\n",
       "      <td>267</td>\n",
       "      <td>0.359551</td>\n",
       "    </tr>\n",
       "    <tr>\n",
       "      <th>5</th>\n",
       "      <td>F</td>\n",
       "      <td>291</td>\n",
       "      <td>599</td>\n",
       "      <td>890</td>\n",
       "      <td>0.326966</td>\n",
       "    </tr>\n",
       "    <tr>\n",
       "      <th>4</th>\n",
       "      <td>E</td>\n",
       "      <td>662</td>\n",
       "      <td>1798</td>\n",
       "      <td>2460</td>\n",
       "      <td>0.269106</td>\n",
       "    </tr>\n",
       "    <tr>\n",
       "      <th>3</th>\n",
       "      <td>D</td>\n",
       "      <td>1083</td>\n",
       "      <td>3773</td>\n",
       "      <td>4856</td>\n",
       "      <td>0.223023</td>\n",
       "    </tr>\n",
       "    <tr>\n",
       "      <th>2</th>\n",
       "      <td>C</td>\n",
       "      <td>1326</td>\n",
       "      <td>6180</td>\n",
       "      <td>7506</td>\n",
       "      <td>0.176659</td>\n",
       "    </tr>\n",
       "    <tr>\n",
       "      <th>1</th>\n",
       "      <td>B</td>\n",
       "      <td>1380</td>\n",
       "      <td>9772</td>\n",
       "      <td>11152</td>\n",
       "      <td>0.123745</td>\n",
       "    </tr>\n",
       "    <tr>\n",
       "      <th>0</th>\n",
       "      <td>A</td>\n",
       "      <td>593</td>\n",
       "      <td>9091</td>\n",
       "      <td>9684</td>\n",
       "      <td>0.061235</td>\n",
       "    </tr>\n",
       "  </tbody>\n",
       "</table>\n",
       "</div>"
      ],
      "text/plain": [
       "loan_status grade  Charged Off  Fully Paid  Total  Charged_Off_Proportion\n",
       "6               G           96         171    267                0.359551\n",
       "5               F          291         599    890                0.326966\n",
       "4               E          662        1798   2460                0.269106\n",
       "3               D         1083        3773   4856                0.223023\n",
       "2               C         1326        6180   7506                0.176659\n",
       "1               B         1380        9772  11152                0.123745\n",
       "0               A          593        9091   9684                0.061235"
      ]
     },
     "execution_count": 41,
     "metadata": {},
     "output_type": "execute_result"
    }
   ],
   "source": [
    "grade_vs_loan=loan_df.groupby(['grade','loan_status']).loan_status.count().unstack().fillna(0).reset_index()\n",
    "grade_vs_loan['Total'] = grade_vs_loan['Charged Off'] + grade_vs_loan['Fully Paid']\n",
    "grade_vs_loan['Charged_Off_Proportion']=grade_vs_loan['Charged Off']/grade_vs_loan['Total']\n",
    "grade_vs_loan.sort_values('Charged_Off_Proportion',ascending=False)"
   ]
  },
  {
   "cell_type": "code",
   "execution_count": 42,
   "id": "f53a4f45",
   "metadata": {},
   "outputs": [
    {
     "data": {
      "image/png": "[encoded data removed]",
      "text/plain": [
       "<Figure size 1008x576 with 1 Axes>"
      ]
     },
     "metadata": {},
     "output_type": "display_data"
    }
   ],
   "source": [
    "fig,ax1=plt.subplots(figsize=(14,8),facecolor='cyan')\n",
    "ax1.set(title='Grades vs Charged Off Proportion')\n",
    "ax1=sns.barplot(x='grade',y='Charged_Off_Proportion', data=grade_vs_loan, palette='colorblind')\n",
    "ax1.set_xlabel('Grades', fontsize=14, color='b')\n",
    "ax1.set_ylabel('Charged Off Proportion',fontsize=14, color='b')\n",
    "plt.show()"
   ]
  },
  {
   "cell_type": "markdown",
   "id": "aaf162be",
   "metadata": {},
   "source": [
    "#### 1) Grade G has highest number of defaulters.\n",
    "#### 2) Defaulters are increasing if we move from grade A to grade G."
   ]
  },
  {
   "cell_type": "markdown",
   "id": "66c696cc",
   "metadata": {},
   "source": [
    "<h2 style = \"color : Purple\">Bivariate analysis : Purpose wise Interest Rate</h2>"
   ]
  },
  {
   "cell_type": "code",
   "execution_count": 73,
   "id": "ec5f0afc",
   "metadata": {},
   "outputs": [
    {
     "data": {
      "image/png": "[encoded data removed]",
      "text/plain": [
       "<Figure size 1296x1008 with 1 Axes>"
      ]
     },
     "metadata": {},
     "output_type": "display_data"
    }
   ],
   "source": [
    "plt.figure(figsize=(18,14),facecolor='cyan')\n",
    "axis = sns.boxplot(x='int_rate', y='purpose', data =loan_df, palette='dark')\n",
    "axis.set_title('Purpose wise Interest Rate', fontsize=15, color='Purple')\n",
    "axis.set_xlabel('Interest Rate', fontsize=14, color = 'red')\n",
    "axis.set_ylabel('Purpose', fontsize=14, color = 'red')\n",
    "plt.show()"
   ]
  },
  {
   "cell_type": "markdown",
   "id": "8c165ed5",
   "metadata": {},
   "source": [
    "#### Average interest rate for small business is greater than other loan purposes."
   ]
  },
  {
   "cell_type": "markdown",
   "id": "06d7bdf5",
   "metadata": {},
   "source": [
    "<h2 style = \"color : Purple\">Bivariate Analysis</h2>"
   ]
  },
  {
   "cell_type": "code",
   "execution_count": 43,
   "id": "c70238be",
   "metadata": {},
   "outputs": [
    {
     "data": {
      "text/html": [
       "<div>\n",
       "<style scoped>\n",
       "    .dataframe tbody tr th:only-of-type {\n",
       "        vertical-align: middle;\n",
       "    }\n",
       "\n",
       "    .dataframe tbody tr th {\n",
       "        vertical-align: top;\n",
       "    }\n",
       "\n",
       "    .dataframe thead th {\n",
       "        text-align: right;\n",
       "    }\n",
       "</style>\n",
       "<table border=\"1\" class=\"dataframe\">\n",
       "  <thead>\n",
       "    <tr style=\"text-align: right;\">\n",
       "      <th></th>\n",
       "      <th>id</th>\n",
       "      <th>loan_amnt</th>\n",
       "      <th>funded_amnt</th>\n",
       "      <th>funded_amnt_inv</th>\n",
       "      <th>int_rate</th>\n",
       "      <th>installment</th>\n",
       "      <th>annual_inc</th>\n",
       "      <th>dti</th>\n",
       "      <th>default</th>\n",
       "    </tr>\n",
       "  </thead>\n",
       "  <tbody>\n",
       "    <tr>\n",
       "      <th>id</th>\n",
       "      <td>1.000000</td>\n",
       "      <td>0.115145</td>\n",
       "      <td>0.125984</td>\n",
       "      <td>0.227444</td>\n",
       "      <td>0.050133</td>\n",
       "      <td>0.070752</td>\n",
       "      <td>0.031991</td>\n",
       "      <td>0.093537</td>\n",
       "      <td>0.044687</td>\n",
       "    </tr>\n",
       "    <tr>\n",
       "      <th>loan_amnt</th>\n",
       "      <td>0.115145</td>\n",
       "      <td>1.000000</td>\n",
       "      <td>0.982006</td>\n",
       "      <td>0.936958</td>\n",
       "      <td>0.291471</td>\n",
       "      <td>0.931599</td>\n",
       "      <td>0.403851</td>\n",
       "      <td>0.089219</td>\n",
       "      <td>0.066238</td>\n",
       "    </tr>\n",
       "    <tr>\n",
       "      <th>funded_amnt</th>\n",
       "      <td>0.125984</td>\n",
       "      <td>0.982006</td>\n",
       "      <td>1.000000</td>\n",
       "      <td>0.954904</td>\n",
       "      <td>0.296498</td>\n",
       "      <td>0.957203</td>\n",
       "      <td>0.399793</td>\n",
       "      <td>0.088305</td>\n",
       "      <td>0.063715</td>\n",
       "    </tr>\n",
       "    <tr>\n",
       "      <th>funded_amnt_inv</th>\n",
       "      <td>0.227444</td>\n",
       "      <td>0.936958</td>\n",
       "      <td>0.954904</td>\n",
       "      <td>1.000000</td>\n",
       "      <td>0.289214</td>\n",
       "      <td>0.902855</td>\n",
       "      <td>0.382968</td>\n",
       "      <td>0.096156</td>\n",
       "      <td>0.044465</td>\n",
       "    </tr>\n",
       "    <tr>\n",
       "      <th>int_rate</th>\n",
       "      <td>0.050133</td>\n",
       "      <td>0.291471</td>\n",
       "      <td>0.296498</td>\n",
       "      <td>0.289214</td>\n",
       "      <td>1.000000</td>\n",
       "      <td>0.269339</td>\n",
       "      <td>0.054321</td>\n",
       "      <td>0.111856</td>\n",
       "      <td>0.212415</td>\n",
       "    </tr>\n",
       "    <tr>\n",
       "      <th>installment</th>\n",
       "      <td>0.070752</td>\n",
       "      <td>0.931599</td>\n",
       "      <td>0.957203</td>\n",
       "      <td>0.902855</td>\n",
       "      <td>0.269339</td>\n",
       "      <td>1.000000</td>\n",
       "      <td>0.399002</td>\n",
       "      <td>0.078032</td>\n",
       "      <td>0.033085</td>\n",
       "    </tr>\n",
       "    <tr>\n",
       "      <th>annual_inc</th>\n",
       "      <td>0.031991</td>\n",
       "      <td>0.403851</td>\n",
       "      <td>0.399793</td>\n",
       "      <td>0.382968</td>\n",
       "      <td>0.054321</td>\n",
       "      <td>0.399002</td>\n",
       "      <td>1.000000</td>\n",
       "      <td>-0.075100</td>\n",
       "      <td>-0.067326</td>\n",
       "    </tr>\n",
       "    <tr>\n",
       "      <th>dti</th>\n",
       "      <td>0.093537</td>\n",
       "      <td>0.089219</td>\n",
       "      <td>0.088305</td>\n",
       "      <td>0.096156</td>\n",
       "      <td>0.111856</td>\n",
       "      <td>0.078032</td>\n",
       "      <td>-0.075100</td>\n",
       "      <td>1.000000</td>\n",
       "      <td>0.041529</td>\n",
       "    </tr>\n",
       "    <tr>\n",
       "      <th>default</th>\n",
       "      <td>0.044687</td>\n",
       "      <td>0.066238</td>\n",
       "      <td>0.063715</td>\n",
       "      <td>0.044465</td>\n",
       "      <td>0.212415</td>\n",
       "      <td>0.033085</td>\n",
       "      <td>-0.067326</td>\n",
       "      <td>0.041529</td>\n",
       "      <td>1.000000</td>\n",
       "    </tr>\n",
       "  </tbody>\n",
       "</table>\n",
       "</div>"
      ],
      "text/plain": [
       "                       id  loan_amnt  funded_amnt  funded_amnt_inv  int_rate  \\\n",
       "id               1.000000   0.115145     0.125984         0.227444  0.050133   \n",
       "loan_amnt        0.115145   1.000000     0.982006         0.936958  0.291471   \n",
       "funded_amnt      0.125984   0.982006     1.000000         0.954904  0.296498   \n",
       "funded_amnt_inv  0.227444   0.936958     0.954904         1.000000  0.289214   \n",
       "int_rate         0.050133   0.291471     0.296498         0.289214  1.000000   \n",
       "installment      0.070752   0.931599     0.957203         0.902855  0.269339   \n",
       "annual_inc       0.031991   0.403851     0.399793         0.382968  0.054321   \n",
       "dti              0.093537   0.089219     0.088305         0.096156  0.111856   \n",
       "default          0.044687   0.066238     0.063715         0.044465  0.212415   \n",
       "\n",
       "                 installment  annual_inc       dti   default  \n",
       "id                  0.070752    0.031991  0.093537  0.044687  \n",
       "loan_amnt           0.931599    0.403851  0.089219  0.066238  \n",
       "funded_amnt         0.957203    0.399793  0.088305  0.063715  \n",
       "funded_amnt_inv     0.902855    0.382968  0.096156  0.044465  \n",
       "int_rate            0.269339    0.054321  0.111856  0.212415  \n",
       "installment         1.000000    0.399002  0.078032  0.033085  \n",
       "annual_inc          0.399002    1.000000 -0.075100 -0.067326  \n",
       "dti                 0.078032   -0.075100  1.000000  0.041529  \n",
       "default             0.033085   -0.067326  0.041529  1.000000  "
      ]
     },
     "execution_count": 43,
     "metadata": {},
     "output_type": "execute_result"
    }
   ],
   "source": [
    "loan_df.corr()"
   ]
  },
  {
   "cell_type": "code",
   "execution_count": 44,
   "id": "91b3f039",
   "metadata": {},
   "outputs": [
    {
     "data": {
      "image/png": "[encoded data removed]",
      "text/plain": [
       "<Figure size 864x576 with 2 Axes>"
      ]
     },
     "metadata": {},
     "output_type": "display_data"
    }
   ],
   "source": [
    "loan_corr = loan_df[['loan_amnt', 'funded_amnt', 'funded_amnt_inv', 'int_rate', 'installment', 'annual_inc', 'dti']].corr()\n",
    "round(loan_corr, 3)\n",
    "plt.figure(figsize=(12,8))\n",
    "sns.heatmap(loan_corr, cmap='Greens', annot=True)\n",
    "plt.xticks(rotation=45, color='Purple')\n",
    "plt.yticks(rotation=45, color='Purple')\n",
    "plt.show()"
   ]
  },
  {
   "cell_type": "markdown",
   "id": "31c60740",
   "metadata": {},
   "source": [
    "#### 1)  Annual Income of customer is negatively correlated with Debt to Income Ratio\n",
    "#### 2)  Loan Amount, Investor Amount and funding amount are strongly correlated"
   ]
  },
  {
   "cell_type": "markdown",
   "id": "57695918",
   "metadata": {},
   "source": [
    "<h2 style = \"color : Purple\">Analysis based on Loan Amount</h2>"
   ]
  },
  {
   "cell_type": "markdown",
   "id": "fd48818f",
   "metadata": {},
   "source": [
    "#### Get the count of loan amount in each loan status"
   ]
  },
  {
   "cell_type": "code",
   "execution_count": 76,
   "id": "3174a986",
   "metadata": {},
   "outputs": [],
   "source": [
    "quantiles = loan_df.loan_amnt.quantile([0.05, 0.1, 0.15, 0.20, 0.25, 0.3, 0.35, 0.4, 0.45, 0.5, 0.55, 0.60, 0.65, 0.70, 0.75, 0.8, 0.85, 0.9, 0.95, 0.96, 0.97, 0.98, 0.99, 1])\n",
    "loan_amnt_groups = [0, 5000, 10000, 15000, 20000, 25000, 30000, 35000]\n",
    "loan_amnt_labels = ['0-5000', '5000-10000', '10000-15000', '15000-20000', '20000-25000','25000-30000', '30000-35000']\n",
    "loan_amnt_df = loan_df.loc[:,['loan_amnt', 'loan_status']]\n",
    "loan_amnt_df['loan_level'] = pd.cut(loan_amnt_df.loan_amnt, bins=loan_amnt_groups, labels =loan_amnt_labels)\n",
    "loan_amnt_df = loan_amnt_df.loc[:, ['loan_level','loan_status']]\n",
    "loan_amnt_df = loan_amnt_df.groupby(['loan_level', 'loan_status']).size()"
   ]
  },
  {
   "cell_type": "markdown",
   "id": "2bab33ca",
   "metadata": {},
   "source": [
    "#### Check the same in percentage form"
   ]
  },
  {
   "cell_type": "code",
   "execution_count": 79,
   "id": "70389243",
   "metadata": {},
   "outputs": [
    {
     "data": {
      "text/html": [
       "<div>\n",
       "<style scoped>\n",
       "    .dataframe tbody tr th:only-of-type {\n",
       "        vertical-align: middle;\n",
       "    }\n",
       "\n",
       "    .dataframe tbody tr th {\n",
       "        vertical-align: top;\n",
       "    }\n",
       "\n",
       "    .dataframe thead th {\n",
       "        text-align: right;\n",
       "    }\n",
       "</style>\n",
       "<table border=\"1\" class=\"dataframe\">\n",
       "  <thead>\n",
       "    <tr style=\"text-align: right;\">\n",
       "      <th></th>\n",
       "      <th>loan_level</th>\n",
       "      <th>loan_status</th>\n",
       "      <th>percent</th>\n",
       "    </tr>\n",
       "  </thead>\n",
       "  <tbody>\n",
       "    <tr>\n",
       "      <th>0</th>\n",
       "      <td>0-5000</td>\n",
       "      <td>Charged Off</td>\n",
       "      <td>13.93</td>\n",
       "    </tr>\n",
       "    <tr>\n",
       "      <th>1</th>\n",
       "      <td>0-5000</td>\n",
       "      <td>Fully Paid</td>\n",
       "      <td>86.07</td>\n",
       "    </tr>\n",
       "    <tr>\n",
       "      <th>2</th>\n",
       "      <td>5000-10000</td>\n",
       "      <td>Charged Off</td>\n",
       "      <td>12.92</td>\n",
       "    </tr>\n",
       "    <tr>\n",
       "      <th>3</th>\n",
       "      <td>5000-10000</td>\n",
       "      <td>Fully Paid</td>\n",
       "      <td>87.08</td>\n",
       "    </tr>\n",
       "    <tr>\n",
       "      <th>4</th>\n",
       "      <td>10000-15000</td>\n",
       "      <td>Charged Off</td>\n",
       "      <td>13.97</td>\n",
       "    </tr>\n",
       "    <tr>\n",
       "      <th>5</th>\n",
       "      <td>10000-15000</td>\n",
       "      <td>Fully Paid</td>\n",
       "      <td>86.03</td>\n",
       "    </tr>\n",
       "    <tr>\n",
       "      <th>6</th>\n",
       "      <td>15000-20000</td>\n",
       "      <td>Charged Off</td>\n",
       "      <td>17.77</td>\n",
       "    </tr>\n",
       "    <tr>\n",
       "      <th>7</th>\n",
       "      <td>15000-20000</td>\n",
       "      <td>Fully Paid</td>\n",
       "      <td>82.23</td>\n",
       "    </tr>\n",
       "    <tr>\n",
       "      <th>8</th>\n",
       "      <td>20000-25000</td>\n",
       "      <td>Charged Off</td>\n",
       "      <td>19.95</td>\n",
       "    </tr>\n",
       "    <tr>\n",
       "      <th>9</th>\n",
       "      <td>20000-25000</td>\n",
       "      <td>Fully Paid</td>\n",
       "      <td>80.05</td>\n",
       "    </tr>\n",
       "    <tr>\n",
       "      <th>10</th>\n",
       "      <td>25000-30000</td>\n",
       "      <td>Charged Off</td>\n",
       "      <td>21.29</td>\n",
       "    </tr>\n",
       "    <tr>\n",
       "      <th>11</th>\n",
       "      <td>25000-30000</td>\n",
       "      <td>Fully Paid</td>\n",
       "      <td>78.71</td>\n",
       "    </tr>\n",
       "    <tr>\n",
       "      <th>12</th>\n",
       "      <td>30000-35000</td>\n",
       "      <td>Charged Off</td>\n",
       "      <td>28.36</td>\n",
       "    </tr>\n",
       "    <tr>\n",
       "      <th>13</th>\n",
       "      <td>30000-35000</td>\n",
       "      <td>Fully Paid</td>\n",
       "      <td>71.64</td>\n",
       "    </tr>\n",
       "  </tbody>\n",
       "</table>\n",
       "</div>"
      ],
      "text/plain": [
       "     loan_level  loan_status  percent\n",
       "0        0-5000  Charged Off    13.93\n",
       "1        0-5000   Fully Paid    86.07\n",
       "2    5000-10000  Charged Off    12.92\n",
       "3    5000-10000   Fully Paid    87.08\n",
       "4   10000-15000  Charged Off    13.97\n",
       "5   10000-15000   Fully Paid    86.03\n",
       "6   15000-20000  Charged Off    17.77\n",
       "7   15000-20000   Fully Paid    82.23\n",
       "8   20000-25000  Charged Off    19.95\n",
       "9   20000-25000   Fully Paid    80.05\n",
       "10  25000-30000  Charged Off    21.29\n",
       "11  25000-30000   Fully Paid    78.71\n",
       "12  30000-35000  Charged Off    28.36\n",
       "13  30000-35000   Fully Paid    71.64"
      ]
     },
     "execution_count": 79,
     "metadata": {},
     "output_type": "execute_result"
    }
   ],
   "source": [
    "loan_a_count = []\n",
    "for i in loan_amnt_df.reset_index().groupby('loan_level').sum()[0]:\n",
    "    loan_a_count.append(i)\n",
    "    loan_a_count.append(i)\n",
    "amnt_percentage = round(100*(loan_amnt_df)/loan_a_count, 2).reset_index()\n",
    "amnt_percentage['percent'] = amnt_percentage[0]\n",
    "amnt_percentage = amnt_percentage.drop(0, axis=1)\n",
    "amnt_percentage"
   ]
  },
  {
   "cell_type": "code",
   "execution_count": 78,
   "id": "53101af7",
   "metadata": {},
   "outputs": [
    {
     "data": {
      "image/png": "[encoded data removed]",
      "text/plain": [
       "<Figure size 1080x504 with 1 Axes>"
      ]
     },
     "metadata": {},
     "output_type": "display_data"
    }
   ],
   "source": [
    "plt.figure(figsize=(15,7))\n",
    "\n",
    "axes = sns.barplot(y='percent', x='loan_level', hue='loan_status', data=amnt_percentage)\n",
    "for patch in axes.patches:\n",
    "    height = patch.get_height()\n",
    "    axes.text(patch.get_x()+patch.get_width()/2., height, '{:1.2f}'.format(height), ha=\"center\") \n",
    "    \n",
    "plt.xlabel(\"Loan Amount Range\")\n",
    "plt.ylabel(\"Percentage of Appliers\")\n",
    "plt.legend(title = \"Loan Status\")\n",
    "\n",
    "plt.show()"
   ]
  },
  {
   "cell_type": "markdown",
   "id": "1fb8080f",
   "metadata": {},
   "source": [
    "#### Appliers with loan amount greater than 15,000 tend to default and with less than 15,000 tend to repay"
   ]
  },
  {
   "cell_type": "code",
   "execution_count": null,
   "id": "4dea307f",
   "metadata": {},
   "outputs": [],
   "source": []
  }
 ],
 "metadata": {
  "kernelspec": {
   "display_name": "Python 3 (ipykernel)",
   "language": "python",
   "name": "python3"
  },
  "language_info": {
   "codemirror_mode": {
    "name": "ipython",
    "version": 3
   },
   "file_extension": ".py",
   "mimetype": "text/x-python",
   "name": "python",
   "nbconvert_exporter": "python",
   "pygments_lexer": "ipython3",
   "version": "3.9.12"
  }
 },
 "nbformat": 4,
 "nbformat_minor": 5
}
